{
 "cells": [
  {
   "cell_type": "markdown",
   "id": "controlling-society",
   "metadata": {
    "execution": {
     "iopub.execute_input": "2021-06-11T06:17:47.528221Z",
     "iopub.status.busy": "2021-06-11T06:17:47.527793Z",
     "iopub.status.idle": "2021-06-11T06:17:47.533193Z",
     "shell.execute_reply": "2021-06-11T06:17:47.532022Z",
     "shell.execute_reply.started": "2021-06-11T06:17:47.528123Z"
    },
    "papermill": {
     "duration": 0.030842,
     "end_time": "2021-06-15T08:56:03.406705",
     "exception": false,
     "start_time": "2021-06-15T08:56:03.375863",
     "status": "completed"
    },
    "tags": []
   },
   "source": [
    "# Titanic survival prediction"
   ]
  },
  {
   "cell_type": "markdown",
   "id": "suitable-rally",
   "metadata": {
    "papermill": {
     "duration": 0.029006,
     "end_time": "2021-06-15T08:56:03.465112",
     "exception": false,
     "start_time": "2021-06-15T08:56:03.436106",
     "status": "completed"
    },
    "tags": []
   },
   "source": [
    "## Import libraries and functions"
   ]
  },
  {
   "cell_type": "code",
   "execution_count": 1,
   "id": "subsequent-german",
   "metadata": {
    "_cell_guid": "b1076dfc-b9ad-4769-8c92-a6c4dae69d19",
    "_uuid": "8f2839f25d086af736a60e9eeb907d3b93b6e0e5",
    "execution": {
     "iopub.execute_input": "2021-06-15T08:56:03.532991Z",
     "iopub.status.busy": "2021-06-15T08:56:03.532368Z",
     "iopub.status.idle": "2021-06-15T08:56:04.295095Z",
     "shell.execute_reply": "2021-06-15T08:56:04.294514Z",
     "shell.execute_reply.started": "2021-06-15T08:51:40.056286Z"
    },
    "papermill": {
     "duration": 0.800243,
     "end_time": "2021-06-15T08:56:04.295267",
     "exception": false,
     "start_time": "2021-06-15T08:56:03.495024",
     "status": "completed"
    },
    "tags": []
   },
   "outputs": [
    {
     "name": "stdout",
     "output_type": "stream",
     "text": [
      "/kaggle/input/titanic/train.csv\n",
      "/kaggle/input/titanic/test.csv\n",
      "/kaggle/input/titanic/gender_submission.csv\n"
     ]
    }
   ],
   "source": [
    "import numpy as np # linear algebra\n",
    "import pandas as pd # data processing, CSV file I/O (e.g. pd.read_csv)\n",
    "import matplotlib.pyplot as plt\n",
    "import seaborn as sns\n",
    "\n",
    "import os\n",
    "for dirname, _, filenames in os.walk('/kaggle/input'):\n",
    "    for filename in filenames:\n",
    "        print(os.path.join(dirname, filename))"
   ]
  },
  {
   "cell_type": "markdown",
   "id": "adult-manner",
   "metadata": {
    "papermill": {
     "duration": 0.029053,
     "end_time": "2021-06-15T08:56:04.354182",
     "exception": false,
     "start_time": "2021-06-15T08:56:04.325129",
     "status": "completed"
    },
    "tags": []
   },
   "source": [
    "## Read input files"
   ]
  },
  {
   "cell_type": "code",
   "execution_count": 2,
   "id": "cardiovascular-burner",
   "metadata": {
    "execution": {
     "iopub.execute_input": "2021-06-15T08:56:04.422375Z",
     "iopub.status.busy": "2021-06-15T08:56:04.421850Z",
     "iopub.status.idle": "2021-06-15T08:56:04.441268Z",
     "shell.execute_reply": "2021-06-15T08:56:04.440215Z",
     "shell.execute_reply.started": "2021-06-15T08:51:40.070461Z"
    },
    "papermill": {
     "duration": 0.052729,
     "end_time": "2021-06-15T08:56:04.441416",
     "exception": false,
     "start_time": "2021-06-15T08:56:04.388687",
     "status": "completed"
    },
    "tags": []
   },
   "outputs": [],
   "source": [
    "train_data = pd.read_csv(\"/kaggle/input/titanic/train.csv\")\n",
    "test_data = pd.read_csv(\"/kaggle/input/titanic/test.csv\")"
   ]
  },
  {
   "cell_type": "markdown",
   "id": "critical-summer",
   "metadata": {
    "papermill": {
     "duration": 0.029017,
     "end_time": "2021-06-15T08:56:04.500110",
     "exception": false,
     "start_time": "2021-06-15T08:56:04.471093",
     "status": "completed"
    },
    "tags": []
   },
   "source": [
    "## Exploratory data analysis\n",
    "First, let's start exploring the whole training data.\n",
    "Second, let's explore each particular variable by calculating some statistical values, missing values, representations and some categorical classifications in order to see approximately some relationships between variables.\n",
    "When looking at missing values, some fixes will also be performed."
   ]
  },
  {
   "cell_type": "code",
   "execution_count": 3,
   "id": "selected-neighborhood",
   "metadata": {
    "execution": {
     "iopub.execute_input": "2021-06-15T08:56:04.568071Z",
     "iopub.status.busy": "2021-06-15T08:56:04.567484Z",
     "iopub.status.idle": "2021-06-15T08:56:04.587558Z",
     "shell.execute_reply": "2021-06-15T08:56:04.588013Z",
     "shell.execute_reply.started": "2021-06-15T08:51:40.099263Z"
    },
    "papermill": {
     "duration": 0.058904,
     "end_time": "2021-06-15T08:56:04.588168",
     "exception": false,
     "start_time": "2021-06-15T08:56:04.529264",
     "status": "completed"
    },
    "tags": []
   },
   "outputs": [
    {
     "data": {
      "text/html": [
       "<div>\n",
       "<style scoped>\n",
       "    .dataframe tbody tr th:only-of-type {\n",
       "        vertical-align: middle;\n",
       "    }\n",
       "\n",
       "    .dataframe tbody tr th {\n",
       "        vertical-align: top;\n",
       "    }\n",
       "\n",
       "    .dataframe thead th {\n",
       "        text-align: right;\n",
       "    }\n",
       "</style>\n",
       "<table border=\"1\" class=\"dataframe\">\n",
       "  <thead>\n",
       "    <tr style=\"text-align: right;\">\n",
       "      <th></th>\n",
       "      <th>PassengerId</th>\n",
       "      <th>Survived</th>\n",
       "      <th>Pclass</th>\n",
       "      <th>Name</th>\n",
       "      <th>Sex</th>\n",
       "      <th>Age</th>\n",
       "      <th>SibSp</th>\n",
       "      <th>Parch</th>\n",
       "      <th>Ticket</th>\n",
       "      <th>Fare</th>\n",
       "      <th>Cabin</th>\n",
       "      <th>Embarked</th>\n",
       "    </tr>\n",
       "  </thead>\n",
       "  <tbody>\n",
       "    <tr>\n",
       "      <th>0</th>\n",
       "      <td>1</td>\n",
       "      <td>0</td>\n",
       "      <td>3</td>\n",
       "      <td>Braund, Mr. Owen Harris</td>\n",
       "      <td>male</td>\n",
       "      <td>22.0</td>\n",
       "      <td>1</td>\n",
       "      <td>0</td>\n",
       "      <td>A/5 21171</td>\n",
       "      <td>7.2500</td>\n",
       "      <td>NaN</td>\n",
       "      <td>S</td>\n",
       "    </tr>\n",
       "    <tr>\n",
       "      <th>1</th>\n",
       "      <td>2</td>\n",
       "      <td>1</td>\n",
       "      <td>1</td>\n",
       "      <td>Cumings, Mrs. John Bradley (Florence Briggs Th...</td>\n",
       "      <td>female</td>\n",
       "      <td>38.0</td>\n",
       "      <td>1</td>\n",
       "      <td>0</td>\n",
       "      <td>PC 17599</td>\n",
       "      <td>71.2833</td>\n",
       "      <td>C85</td>\n",
       "      <td>C</td>\n",
       "    </tr>\n",
       "    <tr>\n",
       "      <th>2</th>\n",
       "      <td>3</td>\n",
       "      <td>1</td>\n",
       "      <td>3</td>\n",
       "      <td>Heikkinen, Miss. Laina</td>\n",
       "      <td>female</td>\n",
       "      <td>26.0</td>\n",
       "      <td>0</td>\n",
       "      <td>0</td>\n",
       "      <td>STON/O2. 3101282</td>\n",
       "      <td>7.9250</td>\n",
       "      <td>NaN</td>\n",
       "      <td>S</td>\n",
       "    </tr>\n",
       "    <tr>\n",
       "      <th>3</th>\n",
       "      <td>4</td>\n",
       "      <td>1</td>\n",
       "      <td>1</td>\n",
       "      <td>Futrelle, Mrs. Jacques Heath (Lily May Peel)</td>\n",
       "      <td>female</td>\n",
       "      <td>35.0</td>\n",
       "      <td>1</td>\n",
       "      <td>0</td>\n",
       "      <td>113803</td>\n",
       "      <td>53.1000</td>\n",
       "      <td>C123</td>\n",
       "      <td>S</td>\n",
       "    </tr>\n",
       "    <tr>\n",
       "      <th>4</th>\n",
       "      <td>5</td>\n",
       "      <td>0</td>\n",
       "      <td>3</td>\n",
       "      <td>Allen, Mr. William Henry</td>\n",
       "      <td>male</td>\n",
       "      <td>35.0</td>\n",
       "      <td>0</td>\n",
       "      <td>0</td>\n",
       "      <td>373450</td>\n",
       "      <td>8.0500</td>\n",
       "      <td>NaN</td>\n",
       "      <td>S</td>\n",
       "    </tr>\n",
       "  </tbody>\n",
       "</table>\n",
       "</div>"
      ],
      "text/plain": [
       "   PassengerId  Survived  Pclass  \\\n",
       "0            1         0       3   \n",
       "1            2         1       1   \n",
       "2            3         1       3   \n",
       "3            4         1       1   \n",
       "4            5         0       3   \n",
       "\n",
       "                                                Name     Sex   Age  SibSp  \\\n",
       "0                            Braund, Mr. Owen Harris    male  22.0      1   \n",
       "1  Cumings, Mrs. John Bradley (Florence Briggs Th...  female  38.0      1   \n",
       "2                             Heikkinen, Miss. Laina  female  26.0      0   \n",
       "3       Futrelle, Mrs. Jacques Heath (Lily May Peel)  female  35.0      1   \n",
       "4                           Allen, Mr. William Henry    male  35.0      0   \n",
       "\n",
       "   Parch            Ticket     Fare Cabin Embarked  \n",
       "0      0         A/5 21171   7.2500   NaN        S  \n",
       "1      0          PC 17599  71.2833   C85        C  \n",
       "2      0  STON/O2. 3101282   7.9250   NaN        S  \n",
       "3      0            113803  53.1000  C123        S  \n",
       "4      0            373450   8.0500   NaN        S  "
      ]
     },
     "execution_count": 3,
     "metadata": {},
     "output_type": "execute_result"
    }
   ],
   "source": [
    "train_data.head()"
   ]
  },
  {
   "cell_type": "code",
   "execution_count": 4,
   "id": "certified-protest",
   "metadata": {
    "execution": {
     "iopub.execute_input": "2021-06-15T08:56:04.650024Z",
     "iopub.status.busy": "2021-06-15T08:56:04.649494Z",
     "iopub.status.idle": "2021-06-15T08:56:04.667130Z",
     "shell.execute_reply": "2021-06-15T08:56:04.667532Z",
     "shell.execute_reply.started": "2021-06-15T08:51:40.124958Z"
    },
    "papermill": {
     "duration": 0.050042,
     "end_time": "2021-06-15T08:56:04.667683",
     "exception": false,
     "start_time": "2021-06-15T08:56:04.617641",
     "status": "completed"
    },
    "tags": []
   },
   "outputs": [
    {
     "name": "stdout",
     "output_type": "stream",
     "text": [
      "<class 'pandas.core.frame.DataFrame'>\n",
      "RangeIndex: 891 entries, 0 to 890\n",
      "Data columns (total 12 columns):\n",
      " #   Column       Non-Null Count  Dtype  \n",
      "---  ------       --------------  -----  \n",
      " 0   PassengerId  891 non-null    int64  \n",
      " 1   Survived     891 non-null    int64  \n",
      " 2   Pclass       891 non-null    int64  \n",
      " 3   Name         891 non-null    object \n",
      " 4   Sex          891 non-null    object \n",
      " 5   Age          714 non-null    float64\n",
      " 6   SibSp        891 non-null    int64  \n",
      " 7   Parch        891 non-null    int64  \n",
      " 8   Ticket       891 non-null    object \n",
      " 9   Fare         891 non-null    float64\n",
      " 10  Cabin        204 non-null    object \n",
      " 11  Embarked     889 non-null    object \n",
      "dtypes: float64(2), int64(5), object(5)\n",
      "memory usage: 83.7+ KB\n"
     ]
    }
   ],
   "source": [
    "train_data.info()"
   ]
  },
  {
   "cell_type": "code",
   "execution_count": 5,
   "id": "silent-drove",
   "metadata": {
    "execution": {
     "iopub.execute_input": "2021-06-15T08:56:04.731687Z",
     "iopub.status.busy": "2021-06-15T08:56:04.731171Z",
     "iopub.status.idle": "2021-06-15T08:56:04.761228Z",
     "shell.execute_reply": "2021-06-15T08:56:04.760674Z",
     "shell.execute_reply.started": "2021-06-15T08:51:40.154912Z"
    },
    "papermill": {
     "duration": 0.063205,
     "end_time": "2021-06-15T08:56:04.761357",
     "exception": false,
     "start_time": "2021-06-15T08:56:04.698152",
     "status": "completed"
    },
    "tags": []
   },
   "outputs": [
    {
     "data": {
      "text/html": [
       "<div>\n",
       "<style scoped>\n",
       "    .dataframe tbody tr th:only-of-type {\n",
       "        vertical-align: middle;\n",
       "    }\n",
       "\n",
       "    .dataframe tbody tr th {\n",
       "        vertical-align: top;\n",
       "    }\n",
       "\n",
       "    .dataframe thead th {\n",
       "        text-align: right;\n",
       "    }\n",
       "</style>\n",
       "<table border=\"1\" class=\"dataframe\">\n",
       "  <thead>\n",
       "    <tr style=\"text-align: right;\">\n",
       "      <th></th>\n",
       "      <th>PassengerId</th>\n",
       "      <th>Survived</th>\n",
       "      <th>Pclass</th>\n",
       "      <th>Age</th>\n",
       "      <th>SibSp</th>\n",
       "      <th>Parch</th>\n",
       "      <th>Fare</th>\n",
       "    </tr>\n",
       "  </thead>\n",
       "  <tbody>\n",
       "    <tr>\n",
       "      <th>count</th>\n",
       "      <td>891.000000</td>\n",
       "      <td>891.000000</td>\n",
       "      <td>891.000000</td>\n",
       "      <td>714.000000</td>\n",
       "      <td>891.000000</td>\n",
       "      <td>891.000000</td>\n",
       "      <td>891.000000</td>\n",
       "    </tr>\n",
       "    <tr>\n",
       "      <th>mean</th>\n",
       "      <td>446.000000</td>\n",
       "      <td>0.383838</td>\n",
       "      <td>2.308642</td>\n",
       "      <td>29.699118</td>\n",
       "      <td>0.523008</td>\n",
       "      <td>0.381594</td>\n",
       "      <td>32.204208</td>\n",
       "    </tr>\n",
       "    <tr>\n",
       "      <th>std</th>\n",
       "      <td>257.353842</td>\n",
       "      <td>0.486592</td>\n",
       "      <td>0.836071</td>\n",
       "      <td>14.526497</td>\n",
       "      <td>1.102743</td>\n",
       "      <td>0.806057</td>\n",
       "      <td>49.693429</td>\n",
       "    </tr>\n",
       "    <tr>\n",
       "      <th>min</th>\n",
       "      <td>1.000000</td>\n",
       "      <td>0.000000</td>\n",
       "      <td>1.000000</td>\n",
       "      <td>0.420000</td>\n",
       "      <td>0.000000</td>\n",
       "      <td>0.000000</td>\n",
       "      <td>0.000000</td>\n",
       "    </tr>\n",
       "    <tr>\n",
       "      <th>25%</th>\n",
       "      <td>223.500000</td>\n",
       "      <td>0.000000</td>\n",
       "      <td>2.000000</td>\n",
       "      <td>20.125000</td>\n",
       "      <td>0.000000</td>\n",
       "      <td>0.000000</td>\n",
       "      <td>7.910400</td>\n",
       "    </tr>\n",
       "    <tr>\n",
       "      <th>50%</th>\n",
       "      <td>446.000000</td>\n",
       "      <td>0.000000</td>\n",
       "      <td>3.000000</td>\n",
       "      <td>28.000000</td>\n",
       "      <td>0.000000</td>\n",
       "      <td>0.000000</td>\n",
       "      <td>14.454200</td>\n",
       "    </tr>\n",
       "    <tr>\n",
       "      <th>75%</th>\n",
       "      <td>668.500000</td>\n",
       "      <td>1.000000</td>\n",
       "      <td>3.000000</td>\n",
       "      <td>38.000000</td>\n",
       "      <td>1.000000</td>\n",
       "      <td>0.000000</td>\n",
       "      <td>31.000000</td>\n",
       "    </tr>\n",
       "    <tr>\n",
       "      <th>max</th>\n",
       "      <td>891.000000</td>\n",
       "      <td>1.000000</td>\n",
       "      <td>3.000000</td>\n",
       "      <td>80.000000</td>\n",
       "      <td>8.000000</td>\n",
       "      <td>6.000000</td>\n",
       "      <td>512.329200</td>\n",
       "    </tr>\n",
       "  </tbody>\n",
       "</table>\n",
       "</div>"
      ],
      "text/plain": [
       "       PassengerId    Survived      Pclass         Age       SibSp  \\\n",
       "count   891.000000  891.000000  891.000000  714.000000  891.000000   \n",
       "mean    446.000000    0.383838    2.308642   29.699118    0.523008   \n",
       "std     257.353842    0.486592    0.836071   14.526497    1.102743   \n",
       "min       1.000000    0.000000    1.000000    0.420000    0.000000   \n",
       "25%     223.500000    0.000000    2.000000   20.125000    0.000000   \n",
       "50%     446.000000    0.000000    3.000000   28.000000    0.000000   \n",
       "75%     668.500000    1.000000    3.000000   38.000000    1.000000   \n",
       "max     891.000000    1.000000    3.000000   80.000000    8.000000   \n",
       "\n",
       "            Parch        Fare  \n",
       "count  891.000000  891.000000  \n",
       "mean     0.381594   32.204208  \n",
       "std      0.806057   49.693429  \n",
       "min      0.000000    0.000000  \n",
       "25%      0.000000    7.910400  \n",
       "50%      0.000000   14.454200  \n",
       "75%      0.000000   31.000000  \n",
       "max      6.000000  512.329200  "
      ]
     },
     "execution_count": 5,
     "metadata": {},
     "output_type": "execute_result"
    }
   ],
   "source": [
    "train_data.describe()"
   ]
  },
  {
   "cell_type": "code",
   "execution_count": 6,
   "id": "turned-tampa",
   "metadata": {
    "execution": {
     "iopub.execute_input": "2021-06-15T08:56:04.829449Z",
     "iopub.status.busy": "2021-06-15T08:56:04.828885Z",
     "iopub.status.idle": "2021-06-15T08:56:04.860388Z",
     "shell.execute_reply": "2021-06-15T08:56:04.859932Z",
     "shell.execute_reply.started": "2021-06-15T08:51:40.203125Z"
    },
    "papermill": {
     "duration": 0.068522,
     "end_time": "2021-06-15T08:56:04.860511",
     "exception": false,
     "start_time": "2021-06-15T08:56:04.791989",
     "status": "completed"
    },
    "tags": []
   },
   "outputs": [
    {
     "data": {
      "text/html": [
       "<div>\n",
       "<style scoped>\n",
       "    .dataframe tbody tr th:only-of-type {\n",
       "        vertical-align: middle;\n",
       "    }\n",
       "\n",
       "    .dataframe tbody tr th {\n",
       "        vertical-align: top;\n",
       "    }\n",
       "\n",
       "    .dataframe thead th {\n",
       "        text-align: right;\n",
       "    }\n",
       "</style>\n",
       "<table border=\"1\" class=\"dataframe\">\n",
       "  <thead>\n",
       "    <tr style=\"text-align: right;\">\n",
       "      <th></th>\n",
       "      <th>Name</th>\n",
       "      <th>Sex</th>\n",
       "      <th>Ticket</th>\n",
       "      <th>Cabin</th>\n",
       "      <th>Embarked</th>\n",
       "    </tr>\n",
       "  </thead>\n",
       "  <tbody>\n",
       "    <tr>\n",
       "      <th>count</th>\n",
       "      <td>891</td>\n",
       "      <td>891</td>\n",
       "      <td>891</td>\n",
       "      <td>204</td>\n",
       "      <td>889</td>\n",
       "    </tr>\n",
       "    <tr>\n",
       "      <th>unique</th>\n",
       "      <td>891</td>\n",
       "      <td>2</td>\n",
       "      <td>681</td>\n",
       "      <td>147</td>\n",
       "      <td>3</td>\n",
       "    </tr>\n",
       "    <tr>\n",
       "      <th>top</th>\n",
       "      <td>Pasic, Mr. Jakob</td>\n",
       "      <td>male</td>\n",
       "      <td>347082</td>\n",
       "      <td>B96 B98</td>\n",
       "      <td>S</td>\n",
       "    </tr>\n",
       "    <tr>\n",
       "      <th>freq</th>\n",
       "      <td>1</td>\n",
       "      <td>577</td>\n",
       "      <td>7</td>\n",
       "      <td>4</td>\n",
       "      <td>644</td>\n",
       "    </tr>\n",
       "  </tbody>\n",
       "</table>\n",
       "</div>"
      ],
      "text/plain": [
       "                    Name   Sex  Ticket    Cabin Embarked\n",
       "count                891   891     891      204      889\n",
       "unique               891     2     681      147        3\n",
       "top     Pasic, Mr. Jakob  male  347082  B96 B98        S\n",
       "freq                   1   577       7        4      644"
      ]
     },
     "execution_count": 6,
     "metadata": {},
     "output_type": "execute_result"
    }
   ],
   "source": [
    "train_data.describe(include=['O'])"
   ]
  },
  {
   "cell_type": "code",
   "execution_count": 7,
   "id": "bored-powder",
   "metadata": {
    "execution": {
     "iopub.execute_input": "2021-06-15T08:56:04.929331Z",
     "iopub.status.busy": "2021-06-15T08:56:04.928677Z",
     "iopub.status.idle": "2021-06-15T08:56:04.932212Z",
     "shell.execute_reply": "2021-06-15T08:56:04.931765Z",
     "shell.execute_reply.started": "2021-06-15T08:51:40.231935Z"
    },
    "papermill": {
     "duration": 0.041018,
     "end_time": "2021-06-15T08:56:04.932331",
     "exception": false,
     "start_time": "2021-06-15T08:56:04.891313",
     "status": "completed"
    },
    "tags": []
   },
   "outputs": [
    {
     "data": {
      "text/plain": [
       "PassengerId      0\n",
       "Survived         0\n",
       "Pclass           0\n",
       "Name             0\n",
       "Sex              0\n",
       "Age            177\n",
       "SibSp            0\n",
       "Parch            0\n",
       "Ticket           0\n",
       "Fare             0\n",
       "Cabin          687\n",
       "Embarked         2\n",
       "dtype: int64"
      ]
     },
     "execution_count": 7,
     "metadata": {},
     "output_type": "execute_result"
    }
   ],
   "source": [
    "train_data.isnull().sum()"
   ]
  },
  {
   "cell_type": "markdown",
   "id": "weekly-piano",
   "metadata": {
    "papermill": {
     "duration": 0.030531,
     "end_time": "2021-06-15T08:56:04.994076",
     "exception": false,
     "start_time": "2021-06-15T08:56:04.963545",
     "status": "completed"
    },
    "tags": []
   },
   "source": [
    "### Pclass, Sex, SibSp, Parch, Embarked"
   ]
  },
  {
   "cell_type": "code",
   "execution_count": 8,
   "id": "federal-trainer",
   "metadata": {
    "execution": {
     "iopub.execute_input": "2021-06-15T08:56:05.063368Z",
     "iopub.status.busy": "2021-06-15T08:56:05.062825Z",
     "iopub.status.idle": "2021-06-15T08:56:06.124778Z",
     "shell.execute_reply": "2021-06-15T08:56:06.124216Z",
     "shell.execute_reply.started": "2021-06-15T08:51:40.244263Z"
    },
    "papermill": {
     "duration": 1.099963,
     "end_time": "2021-06-15T08:56:06.124916",
     "exception": false,
     "start_time": "2021-06-15T08:56:05.024953",
     "status": "completed"
    },
    "tags": []
   },
   "outputs": [
    {
     "name": "stdout",
     "output_type": "stream",
     "text": [
      "Pclass\n",
      "3    491\n",
      "1    216\n",
      "2    184\n",
      "Name: Pclass, dtype: int64\n",
      "Pclass  Survived\n",
      "1       1           136\n",
      "        0            80\n",
      "2       0            97\n",
      "        1            87\n",
      "3       0           372\n",
      "        1           119\n",
      "Name: Survived, dtype: int64\n"
     ]
    },
    {
     "data": {
      "image/png": "[encoded data removed]",
      "text/plain": [
       "<Figure size 432x288 with 1 Axes>"
      ]
     },
     "metadata": {
      "needs_background": "light"
     },
     "output_type": "display_data"
    },
    {
     "name": "stdout",
     "output_type": "stream",
     "text": [
      "\n",
      "\n",
      "Sex\n",
      "male      577\n",
      "female    314\n",
      "Name: Sex, dtype: int64\n",
      "Sex     Survived\n",
      "female  1           233\n",
      "        0            81\n",
      "male    0           468\n",
      "        1           109\n",
      "Name: Survived, dtype: int64\n"
     ]
    },
    {
     "data": {
      "image/png": "[encoded data removed]",
      "text/plain": [
       "<Figure size 432x288 with 1 Axes>"
      ]
     },
     "metadata": {
      "needs_background": "light"
     },
     "output_type": "display_data"
    },
    {
     "name": "stdout",
     "output_type": "stream",
     "text": [
      "\n",
      "\n",
      "SibSp\n",
      "0    608\n",
      "1    209\n",
      "2     28\n",
      "4     18\n",
      "3     16\n",
      "8      7\n",
      "5      5\n",
      "Name: SibSp, dtype: int64\n",
      "SibSp  Survived\n",
      "0      0           398\n",
      "       1           210\n",
      "1      1           112\n",
      "       0            97\n",
      "2      0            15\n",
      "       1            13\n",
      "3      0            12\n",
      "       1             4\n",
      "4      0            15\n",
      "       1             3\n",
      "5      0             5\n",
      "8      0             7\n",
      "Name: Survived, dtype: int64\n"
     ]
    },
    {
     "data": {
      "image/png": "[encoded data removed]",
      "text/plain": [
       "<Figure size 432x288 with 1 Axes>"
      ]
     },
     "metadata": {
      "needs_background": "light"
     },
     "output_type": "display_data"
    },
    {
     "name": "stdout",
     "output_type": "stream",
     "text": [
      "\n",
      "\n",
      "Parch\n",
      "0    678\n",
      "1    118\n",
      "2     80\n",
      "3      5\n",
      "5      5\n",
      "4      4\n",
      "6      1\n",
      "Name: Parch, dtype: int64\n",
      "Parch  Survived\n",
      "0      0           445\n",
      "       1           233\n",
      "1      1            65\n",
      "       0            53\n",
      "2      0            40\n",
      "       1            40\n",
      "3      1             3\n",
      "       0             2\n",
      "4      0             4\n",
      "5      0             4\n",
      "       1             1\n",
      "6      0             1\n",
      "Name: Survived, dtype: int64\n"
     ]
    },
    {
     "data": {
      "image/png": "[encoded data removed]",
      "text/plain": [
       "<Figure size 432x288 with 1 Axes>"
      ]
     },
     "metadata": {
      "needs_background": "light"
     },
     "output_type": "display_data"
    },
    {
     "name": "stdout",
     "output_type": "stream",
     "text": [
      "\n",
      "\n",
      "Embarked\n",
      "S    644\n",
      "C    168\n",
      "Q     77\n",
      "Name: Embarked, dtype: int64\n",
      "Embarked  Survived\n",
      "C         1            93\n",
      "          0            75\n",
      "Q         0            47\n",
      "          1            30\n",
      "S         0           427\n",
      "          1           217\n",
      "Name: Survived, dtype: int64\n"
     ]
    },
    {
     "data": {
      "image/png": "[encoded data removed]",
      "text/plain": [
       "<Figure size 432x288 with 1 Axes>"
      ]
     },
     "metadata": {
      "needs_background": "light"
     },
     "output_type": "display_data"
    },
    {
     "name": "stdout",
     "output_type": "stream",
     "text": [
      "\n",
      "\n"
     ]
    }
   ],
   "source": [
    "columns_to_explore = ['Pclass','Sex','SibSp','Parch','Embarked']\n",
    "\n",
    "for column in columns_to_explore:\n",
    "    print(column)\n",
    "    print(train_data[column].value_counts())\n",
    "    print(train_data.groupby(column).Survived.value_counts())\n",
    "    sns.barplot(x=column, y='Survived', data=train_data)\n",
    "    plt.show()\n",
    "    print('\\n')"
   ]
  },
  {
   "cell_type": "markdown",
   "id": "olympic-court",
   "metadata": {
    "papermill": {
     "duration": 0.034792,
     "end_time": "2021-06-15T08:56:06.195228",
     "exception": false,
     "start_time": "2021-06-15T08:56:06.160436",
     "status": "completed"
    },
    "tags": []
   },
   "source": [
    "As columns 'Sex' and 'Embarked' are categorical but not numerical, let's transform them in numbers. Also, as embarked had two missing values, just suppose they were \"S\"."
   ]
  },
  {
   "cell_type": "code",
   "execution_count": 9,
   "id": "chemical-portsmouth",
   "metadata": {
    "execution": {
     "iopub.execute_input": "2021-06-15T08:56:06.270462Z",
     "iopub.status.busy": "2021-06-15T08:56:06.269810Z",
     "iopub.status.idle": "2021-06-15T08:56:06.272971Z",
     "shell.execute_reply": "2021-06-15T08:56:06.272446Z",
     "shell.execute_reply.started": "2021-06-15T08:51:41.726056Z"
    },
    "papermill": {
     "duration": 0.042967,
     "end_time": "2021-06-15T08:56:06.273090",
     "exception": false,
     "start_time": "2021-06-15T08:56:06.230123",
     "status": "completed"
    },
    "tags": []
   },
   "outputs": [
    {
     "data": {
      "text/plain": [
       "2"
      ]
     },
     "execution_count": 9,
     "metadata": {},
     "output_type": "execute_result"
    }
   ],
   "source": [
    "train_data['Embarked'].isnull().sum()"
   ]
  },
  {
   "cell_type": "code",
   "execution_count": 10,
   "id": "monetary-lesson",
   "metadata": {
    "execution": {
     "iopub.execute_input": "2021-06-15T08:56:06.354618Z",
     "iopub.status.busy": "2021-06-15T08:56:06.354069Z",
     "iopub.status.idle": "2021-06-15T08:56:06.356442Z",
     "shell.execute_reply": "2021-06-15T08:56:06.355941Z",
     "shell.execute_reply.started": "2021-06-15T08:51:41.734650Z"
    },
    "papermill": {
     "duration": 0.048525,
     "end_time": "2021-06-15T08:56:06.356575",
     "exception": false,
     "start_time": "2021-06-15T08:56:06.308050",
     "status": "completed"
    },
    "tags": []
   },
   "outputs": [],
   "source": [
    "datasets = [train_data, test_data]\n",
    "for dataset in datasets:\n",
    "    dataset['Sex_num'] = dataset['Sex'].map({'male': 0, 'female': 1})\n",
    "    dataset['Embarked_num'] = dataset['Embarked'].map({'S': 0, 'C': 1, 'Q': 2})\n",
    "    dataset.loc[dataset['Embarked_num'].isnull(), 'Embarked_num'] = 0"
   ]
  },
  {
   "cell_type": "markdown",
   "id": "corrected-concept",
   "metadata": {
    "papermill": {
     "duration": 0.050863,
     "end_time": "2021-06-15T08:56:06.448551",
     "exception": false,
     "start_time": "2021-06-15T08:56:06.397688",
     "status": "completed"
    },
    "tags": []
   },
   "source": [
    "### Names"
   ]
  },
  {
   "cell_type": "code",
   "execution_count": 11,
   "id": "protective-township",
   "metadata": {
    "execution": {
     "iopub.execute_input": "2021-06-15T08:56:06.533020Z",
     "iopub.status.busy": "2021-06-15T08:56:06.532439Z",
     "iopub.status.idle": "2021-06-15T08:56:06.535609Z",
     "shell.execute_reply": "2021-06-15T08:56:06.535140Z",
     "shell.execute_reply.started": "2021-06-15T08:51:41.761525Z"
    },
    "papermill": {
     "duration": 0.046117,
     "end_time": "2021-06-15T08:56:06.535734",
     "exception": false,
     "start_time": "2021-06-15T08:56:06.489617",
     "status": "completed"
    },
    "tags": []
   },
   "outputs": [
    {
     "data": {
      "text/plain": [
       "Mr              517\n",
       "Miss            182\n",
       "Mrs             125\n",
       "Master           40\n",
       "Dr                7\n",
       "Rev               6\n",
       "Major             2\n",
       "Col               2\n",
       "Mlle              2\n",
       "the Countess      1\n",
       "Jonkheer          1\n",
       "Don               1\n",
       "Ms                1\n",
       "Capt              1\n",
       "Lady              1\n",
       "Sir               1\n",
       "Mme               1\n",
       "Name: titles, dtype: int64"
      ]
     },
     "execution_count": 11,
     "metadata": {},
     "output_type": "execute_result"
    }
   ],
   "source": [
    "train_data['titles'] = [name.split(', ')[1].split('.')[0] for name in train_data['Name']]\n",
    "train_data['titles'].value_counts()"
   ]
  },
  {
   "cell_type": "code",
   "execution_count": 12,
   "id": "willing-worry",
   "metadata": {
    "execution": {
     "iopub.execute_input": "2021-06-15T08:56:06.608911Z",
     "iopub.status.busy": "2021-06-15T08:56:06.608352Z",
     "iopub.status.idle": "2021-06-15T08:56:06.620138Z",
     "shell.execute_reply": "2021-06-15T08:56:06.619670Z",
     "shell.execute_reply.started": "2021-06-15T08:51:41.776081Z"
    },
    "papermill": {
     "duration": 0.049207,
     "end_time": "2021-06-15T08:56:06.620259",
     "exception": false,
     "start_time": "2021-06-15T08:56:06.571052",
     "status": "completed"
    },
    "tags": []
   },
   "outputs": [
    {
     "name": "stdout",
     "output_type": "stream",
     "text": [
      "0.0    517\n",
      "1.0    182\n",
      "2.0    125\n",
      "3.0     40\n",
      "5.0     20\n",
      "4.0      7\n",
      "Name: titles_num, dtype: int64\n",
      "0.0    228\n",
      "1.0    101\n",
      "2.0     58\n",
      "3.0     23\n",
      "5.0      5\n",
      "4.0      3\n",
      "Name: titles_num, dtype: int64\n"
     ]
    }
   ],
   "source": [
    "for dataset in datasets:\n",
    "    dataset['titles_num'] = train_data['titles'].map({'Mr': 0, 'Miss': 1, 'Mrs': 2, 'Master': 3, 'Dr': 4}).fillna(5)\n",
    "    print(dataset['titles_num'].value_counts())"
   ]
  },
  {
   "cell_type": "code",
   "execution_count": 13,
   "id": "monetary-satin",
   "metadata": {
    "execution": {
     "iopub.execute_input": "2021-06-15T08:56:06.698651Z",
     "iopub.status.busy": "2021-06-15T08:56:06.698077Z",
     "iopub.status.idle": "2021-06-15T08:56:06.947446Z",
     "shell.execute_reply": "2021-06-15T08:56:06.947037Z",
     "shell.execute_reply.started": "2021-06-15T08:51:41.804648Z"
    },
    "papermill": {
     "duration": 0.291356,
     "end_time": "2021-06-15T08:56:06.947574",
     "exception": false,
     "start_time": "2021-06-15T08:56:06.656218",
     "status": "completed"
    },
    "tags": []
   },
   "outputs": [
    {
     "name": "stdout",
     "output_type": "stream",
     "text": [
      "0.0    517\n",
      "1.0    182\n",
      "2.0    125\n",
      "3.0     40\n",
      "5.0     20\n",
      "4.0      7\n",
      "Name: titles_num, dtype: int64\n",
      "titles_num  Survived\n",
      "0.0         0           436\n",
      "            1            81\n",
      "1.0         1           127\n",
      "            0            55\n",
      "2.0         1            99\n",
      "            0            26\n",
      "3.0         1            23\n",
      "            0            17\n",
      "4.0         0             4\n",
      "            1             3\n",
      "5.0         0            11\n",
      "            1             9\n",
      "Name: Survived, dtype: int64\n"
     ]
    },
    {
     "data": {
      "text/plain": [
       "<AxesSubplot:xlabel='titles_num', ylabel='Survived'>"
      ]
     },
     "execution_count": 13,
     "metadata": {},
     "output_type": "execute_result"
    },
    {
     "data": {
      "image/png": "[encoded data removed]",
      "text/plain": [
       "<Figure size 432x288 with 1 Axes>"
      ]
     },
     "metadata": {
      "needs_background": "light"
     },
     "output_type": "display_data"
    }
   ],
   "source": [
    "print(train_data['titles_num'].value_counts())\n",
    "print(train_data.groupby('titles_num').Survived.value_counts())\n",
    "sns.barplot(x='titles_num', y='Survived', data=train_data)"
   ]
  },
  {
   "cell_type": "markdown",
   "id": "chinese-chicago",
   "metadata": {
    "papermill": {
     "duration": 0.03621,
     "end_time": "2021-06-15T08:56:07.020314",
     "exception": false,
     "start_time": "2021-06-15T08:56:06.984104",
     "status": "completed"
    },
    "tags": []
   },
   "source": [
    "### Age\n",
    "There are many missing values in the age column. Let's see if there is any relationship with the age (grouped by 5-year bins). In that case, missing values will be statistically infered"
   ]
  },
  {
   "cell_type": "code",
   "execution_count": 14,
   "id": "residential-daisy",
   "metadata": {
    "execution": {
     "iopub.execute_input": "2021-06-15T08:56:07.100942Z",
     "iopub.status.busy": "2021-06-15T08:56:07.100362Z",
     "iopub.status.idle": "2021-06-15T08:56:07.515704Z",
     "shell.execute_reply": "2021-06-15T08:56:07.516096Z",
     "shell.execute_reply.started": "2021-06-15T08:51:42.210046Z"
    },
    "papermill": {
     "duration": 0.459593,
     "end_time": "2021-06-15T08:56:07.516259",
     "exception": false,
     "start_time": "2021-06-15T08:56:07.056666",
     "status": "completed"
    },
    "tags": []
   },
   "outputs": [
    {
     "name": "stdout",
     "output_type": "stream",
     "text": [
      "25.0    230\n",
      "35.0    155\n",
      "15.0    115\n",
      "45.0     86\n",
      "5.0      64\n",
      "55.0     42\n",
      "65.0     17\n",
      "75.0      5\n",
      "85.0      0\n",
      "Name: Age_bin, dtype: int64\n"
     ]
    },
    {
     "data": {
      "text/plain": [
       "<AxesSubplot:xlabel='Age_bin', ylabel='Survived'>"
      ]
     },
     "execution_count": 14,
     "metadata": {},
     "output_type": "execute_result"
    },
    {
     "data": {
      "image/png": "[encoded data removed]",
      "text/plain": [
       "<Figure size 432x288 with 1 Axes>"
      ]
     },
     "metadata": {
      "needs_background": "light"
     },
     "output_type": "display_data"
    }
   ],
   "source": [
    "labels = [str(x) for x in np.linspace(5,85,9)]\n",
    "train_data['Age_bin'] = pd.cut(train_data['Age'], bins=np.linspace(0,90,10), labels = labels)\n",
    "print(train_data['Age_bin'].value_counts())\n",
    "sns.barplot(x='Age_bin', y='Survived', data=train_data)"
   ]
  },
  {
   "cell_type": "markdown",
   "id": "superb-retail",
   "metadata": {
    "papermill": {
     "duration": 0.036928,
     "end_time": "2021-06-15T08:56:07.590512",
     "exception": false,
     "start_time": "2021-06-15T08:56:07.553584",
     "status": "completed"
    },
    "tags": []
   },
   "source": [
    "Age seems to be a valuable attribue, so let's try to fill the nan values with random values following the dataset distribution"
   ]
  },
  {
   "cell_type": "code",
   "execution_count": 15,
   "id": "superior-circumstances",
   "metadata": {
    "execution": {
     "iopub.execute_input": "2021-06-15T08:56:07.675066Z",
     "iopub.status.busy": "2021-06-15T08:56:07.670267Z",
     "iopub.status.idle": "2021-06-15T08:56:07.677083Z",
     "shell.execute_reply": "2021-06-15T08:56:07.677495Z",
     "shell.execute_reply.started": "2021-06-15T08:51:42.699517Z"
    },
    "papermill": {
     "duration": 0.049866,
     "end_time": "2021-06-15T08:56:07.677648",
     "exception": false,
     "start_time": "2021-06-15T08:56:07.627782",
     "status": "completed"
    },
    "tags": []
   },
   "outputs": [],
   "source": [
    "for dataset in datasets:\n",
    "    age_mean = dataset['Age'].mean()\n",
    "    age_std = dataset['Age'].std()\n",
    "    age_nan_size = dataset['Age'].isnull().sum()\n",
    "    rand_age = np.random.randint(age_mean - age_std, age_mean + age_std, size = age_nan_size)\n",
    "    dataset['Age_nomiss'] = dataset['Age']\n",
    "    dataset.loc[np.isnan(dataset['Age']), 'Age_nomiss'] = rand_age"
   ]
  },
  {
   "cell_type": "markdown",
   "id": "leading-foster",
   "metadata": {
    "papermill": {
     "duration": 0.036842,
     "end_time": "2021-06-15T08:56:07.752648",
     "exception": false,
     "start_time": "2021-06-15T08:56:07.715806",
     "status": "completed"
    },
    "tags": []
   },
   "source": [
    "### Tickets\n",
    "Let's have some insights on the ticket column"
   ]
  },
  {
   "cell_type": "code",
   "execution_count": 16,
   "id": "nearby-building",
   "metadata": {
    "execution": {
     "iopub.execute_input": "2021-06-15T08:56:07.830402Z",
     "iopub.status.busy": "2021-06-15T08:56:07.829540Z",
     "iopub.status.idle": "2021-06-15T08:56:07.836373Z",
     "shell.execute_reply": "2021-06-15T08:56:07.836873Z",
     "shell.execute_reply.started": "2021-06-15T08:51:42.714578Z"
    },
    "papermill": {
     "duration": 0.047049,
     "end_time": "2021-06-15T08:56:07.837032",
     "exception": false,
     "start_time": "2021-06-15T08:56:07.789983",
     "status": "completed"
    },
    "tags": []
   },
   "outputs": [
    {
     "data": {
      "text/plain": [
       "0             A/5 21171\n",
       "1              PC 17599\n",
       "2      STON/O2. 3101282\n",
       "3                113803\n",
       "4                373450\n",
       "             ...       \n",
       "886              211536\n",
       "887              112053\n",
       "888          W./C. 6607\n",
       "889              111369\n",
       "890              370376\n",
       "Name: Ticket, Length: 891, dtype: object"
      ]
     },
     "execution_count": 16,
     "metadata": {},
     "output_type": "execute_result"
    }
   ],
   "source": [
    "train_data ['Ticket']"
   ]
  },
  {
   "cell_type": "markdown",
   "id": "basic-roman",
   "metadata": {
    "papermill": {
     "duration": 0.037269,
     "end_time": "2021-06-15T08:56:07.912634",
     "exception": false,
     "start_time": "2021-06-15T08:56:07.875365",
     "status": "completed"
    },
    "tags": []
   },
   "source": [
    "It seems that information is not of much use."
   ]
  },
  {
   "cell_type": "markdown",
   "id": "possible-winning",
   "metadata": {
    "papermill": {
     "duration": 0.037077,
     "end_time": "2021-06-15T08:56:07.986970",
     "exception": false,
     "start_time": "2021-06-15T08:56:07.949893",
     "status": "completed"
    },
    "tags": []
   },
   "source": [
    "### Fare\n",
    "Let's have some insights on the fare column."
   ]
  },
  {
   "cell_type": "code",
   "execution_count": 17,
   "id": "overhead-center",
   "metadata": {
    "execution": {
     "iopub.execute_input": "2021-06-15T08:56:08.068453Z",
     "iopub.status.busy": "2021-06-15T08:56:08.067903Z",
     "iopub.status.idle": "2021-06-15T08:56:08.073611Z",
     "shell.execute_reply": "2021-06-15T08:56:08.074030Z",
     "shell.execute_reply.started": "2021-06-15T08:51:42.729222Z"
    },
    "papermill": {
     "duration": 0.049746,
     "end_time": "2021-06-15T08:56:08.074183",
     "exception": false,
     "start_time": "2021-06-15T08:56:08.024437",
     "status": "completed"
    },
    "tags": []
   },
   "outputs": [
    {
     "data": {
      "text/plain": [
       "count    891.000000\n",
       "mean      32.204208\n",
       "std       49.693429\n",
       "min        0.000000\n",
       "25%        7.910400\n",
       "50%       14.454200\n",
       "75%       31.000000\n",
       "max      512.329200\n",
       "Name: Fare, dtype: float64"
      ]
     },
     "execution_count": 17,
     "metadata": {},
     "output_type": "execute_result"
    }
   ],
   "source": [
    "train_data['Fare'].describe()"
   ]
  },
  {
   "cell_type": "code",
   "execution_count": 18,
   "id": "apparent-christopher",
   "metadata": {
    "execution": {
     "iopub.execute_input": "2021-06-15T08:56:08.153171Z",
     "iopub.status.busy": "2021-06-15T08:56:08.152610Z",
     "iopub.status.idle": "2021-06-15T08:56:08.466028Z",
     "shell.execute_reply": "2021-06-15T08:56:08.466498Z",
     "shell.execute_reply.started": "2021-06-15T08:51:42.748532Z"
    },
    "papermill": {
     "duration": 0.353913,
     "end_time": "2021-06-15T08:56:08.466658",
     "exception": false,
     "start_time": "2021-06-15T08:56:08.112745",
     "status": "completed"
    },
    "tags": []
   },
   "outputs": [
    {
     "name": "stdout",
     "output_type": "stream",
     "text": [
      "10     319\n",
      "40     158\n",
      "100    123\n",
      "15     122\n",
      "25      99\n",
      "600     53\n",
      "0       15\n",
      "5        2\n",
      "Name: Fare_bin, dtype: int64\n"
     ]
    },
    {
     "data": {
      "text/plain": [
       "<AxesSubplot:xlabel='Fare_bin', ylabel='Survived'>"
      ]
     },
     "execution_count": 18,
     "metadata": {},
     "output_type": "execute_result"
    },
    {
     "data": {
      "image/png": "[encoded data removed]",
      "text/plain": [
       "<Figure size 432x288 with 1 Axes>"
      ]
     },
     "metadata": {
      "needs_background": "light"
     },
     "output_type": "display_data"
    }
   ],
   "source": [
    "bins = [-0.1, 1, 5, 10, 15, 25, 40, 100, 600]\n",
    "labels = ['0', '5', '10', '15', '25', '40', '100', '600']\n",
    "train_data['Fare_bin'] = pd.cut(train_data['Fare'], bins=bins, labels = labels)\n",
    "print(train_data['Fare_bin'].value_counts())\n",
    "sns.barplot(x='Fare_bin', y='Survived', data=train_data)"
   ]
  },
  {
   "cell_type": "markdown",
   "id": "banner-complexity",
   "metadata": {
    "papermill": {
     "duration": 0.038703,
     "end_time": "2021-06-15T08:56:08.544407",
     "exception": false,
     "start_time": "2021-06-15T08:56:08.505704",
     "status": "completed"
    },
    "tags": []
   },
   "source": [
    "There is clearly a correlation with the Fare of the ticket"
   ]
  },
  {
   "cell_type": "markdown",
   "id": "outer-commissioner",
   "metadata": {
    "papermill": {
     "duration": 0.038518,
     "end_time": "2021-06-15T08:56:08.621654",
     "exception": false,
     "start_time": "2021-06-15T08:56:08.583136",
     "status": "completed"
    },
    "tags": []
   },
   "source": [
    "### Cabin\n",
    "Let's try to see some insights about the Cabin data."
   ]
  },
  {
   "cell_type": "code",
   "execution_count": 19,
   "id": "herbal-standard",
   "metadata": {
    "execution": {
     "iopub.execute_input": "2021-06-15T08:56:08.702185Z",
     "iopub.status.busy": "2021-06-15T08:56:08.701631Z",
     "iopub.status.idle": "2021-06-15T08:56:08.706484Z",
     "shell.execute_reply": "2021-06-15T08:56:08.706973Z",
     "shell.execute_reply.started": "2021-06-15T08:51:43.221571Z"
    },
    "papermill": {
     "duration": 0.046492,
     "end_time": "2021-06-15T08:56:08.707132",
     "exception": false,
     "start_time": "2021-06-15T08:56:08.660640",
     "status": "completed"
    },
    "tags": []
   },
   "outputs": [
    {
     "data": {
      "text/plain": [
       "687"
      ]
     },
     "execution_count": 19,
     "metadata": {},
     "output_type": "execute_result"
    }
   ],
   "source": [
    "train_data['Cabin'].isnull().sum()"
   ]
  },
  {
   "cell_type": "code",
   "execution_count": 20,
   "id": "common-strike",
   "metadata": {
    "execution": {
     "iopub.execute_input": "2021-06-15T08:56:08.789409Z",
     "iopub.status.busy": "2021-06-15T08:56:08.788882Z",
     "iopub.status.idle": "2021-06-15T08:56:08.795630Z",
     "shell.execute_reply": "2021-06-15T08:56:08.796137Z",
     "shell.execute_reply.started": "2021-06-15T08:51:43.230384Z"
    },
    "papermill": {
     "duration": 0.048884,
     "end_time": "2021-06-15T08:56:08.796288",
     "exception": false,
     "start_time": "2021-06-15T08:56:08.747404",
     "status": "completed"
    },
    "tags": []
   },
   "outputs": [
    {
     "data": {
      "text/plain": [
       "1              C85\n",
       "3             C123\n",
       "6              E46\n",
       "10              G6\n",
       "11            C103\n",
       "          ...     \n",
       "871            D35\n",
       "872    B51 B53 B55\n",
       "879            C50\n",
       "887            B42\n",
       "889           C148\n",
       "Name: Cabin, Length: 204, dtype: object"
      ]
     },
     "execution_count": 20,
     "metadata": {},
     "output_type": "execute_result"
    }
   ],
   "source": [
    "train_data.loc[train_data['Cabin'].isnull() == False, 'Cabin']"
   ]
  },
  {
   "cell_type": "markdown",
   "id": "higher-athens",
   "metadata": {
    "papermill": {
     "duration": 0.039078,
     "end_time": "2021-06-15T08:56:08.874715",
     "exception": false,
     "start_time": "2021-06-15T08:56:08.835637",
     "status": "completed"
    },
    "tags": []
   },
   "source": [
    "First letter of the cabin number seems to have some meaning. However, there are many missing values as to consider it a valuable variable."
   ]
  },
  {
   "cell_type": "markdown",
   "id": "composed-introduction",
   "metadata": {
    "papermill": {
     "duration": 0.04006,
     "end_time": "2021-06-15T08:56:08.954616",
     "exception": false,
     "start_time": "2021-06-15T08:56:08.914556",
     "status": "completed"
    },
    "tags": []
   },
   "source": [
    "### Variable pairs relationships\n",
    "Let's look at some relationships between variables using violin plots."
   ]
  },
  {
   "cell_type": "code",
   "execution_count": 21,
   "id": "negative-invasion",
   "metadata": {
    "execution": {
     "iopub.execute_input": "2021-06-15T08:56:09.036674Z",
     "iopub.status.busy": "2021-06-15T08:56:09.036131Z",
     "iopub.status.idle": "2021-06-15T08:56:09.204063Z",
     "shell.execute_reply": "2021-06-15T08:56:09.203522Z",
     "shell.execute_reply.started": "2021-06-15T08:51:43.247439Z"
    },
    "papermill": {
     "duration": 0.209892,
     "end_time": "2021-06-15T08:56:09.204189",
     "exception": false,
     "start_time": "2021-06-15T08:56:08.994297",
     "status": "completed"
    },
    "tags": []
   },
   "outputs": [
    {
     "data": {
      "image/png": "[encoded data removed]",
      "text/plain": [
       "<Figure size 432x288 with 1 Axes>"
      ]
     },
     "metadata": {
      "needs_background": "light"
     },
     "output_type": "display_data"
    }
   ],
   "source": [
    "ax = sns.violinplot(x=\"Sex\", y=\"Age\", hue=\"Survived\", data=train_data, palette=\"muted\", split=True)"
   ]
  },
  {
   "cell_type": "markdown",
   "id": "vertical-glucose",
   "metadata": {
    "papermill": {
     "duration": 0.040055,
     "end_time": "2021-06-15T08:56:09.284620",
     "exception": false,
     "start_time": "2021-06-15T08:56:09.244565",
     "status": "completed"
    },
    "tags": []
   },
   "source": [
    "## Definition of a model"
   ]
  },
  {
   "cell_type": "code",
   "execution_count": 22,
   "id": "aggressive-victor",
   "metadata": {
    "execution": {
     "iopub.execute_input": "2021-06-15T08:56:09.383642Z",
     "iopub.status.busy": "2021-06-15T08:56:09.370265Z",
     "iopub.status.idle": "2021-06-15T08:56:09.387669Z",
     "shell.execute_reply": "2021-06-15T08:56:09.388070Z",
     "shell.execute_reply.started": "2021-06-15T08:51:43.442300Z"
    },
    "papermill": {
     "duration": 0.0634,
     "end_time": "2021-06-15T08:56:09.388231",
     "exception": false,
     "start_time": "2021-06-15T08:56:09.324831",
     "status": "completed"
    },
    "tags": []
   },
   "outputs": [
    {
     "name": "stdout",
     "output_type": "stream",
     "text": [
      "<class 'pandas.core.frame.DataFrame'>\n",
      "RangeIndex: 891 entries, 0 to 890\n",
      "Data columns (total 19 columns):\n",
      " #   Column        Non-Null Count  Dtype   \n",
      "---  ------        --------------  -----   \n",
      " 0   PassengerId   891 non-null    int64   \n",
      " 1   Survived      891 non-null    int64   \n",
      " 2   Pclass        891 non-null    int64   \n",
      " 3   Name          891 non-null    object  \n",
      " 4   Sex           891 non-null    object  \n",
      " 5   Age           714 non-null    float64 \n",
      " 6   SibSp         891 non-null    int64   \n",
      " 7   Parch         891 non-null    int64   \n",
      " 8   Ticket        891 non-null    object  \n",
      " 9   Fare          891 non-null    float64 \n",
      " 10  Cabin         204 non-null    object  \n",
      " 11  Embarked      889 non-null    object  \n",
      " 12  Sex_num       891 non-null    int64   \n",
      " 13  Embarked_num  891 non-null    float64 \n",
      " 14  titles        891 non-null    object  \n",
      " 15  titles_num    891 non-null    float64 \n",
      " 16  Age_bin       714 non-null    category\n",
      " 17  Age_nomiss    891 non-null    float64 \n",
      " 18  Fare_bin      891 non-null    category\n",
      "dtypes: category(2), float64(5), int64(6), object(6)\n",
      "memory usage: 120.9+ KB\n"
     ]
    }
   ],
   "source": [
    "train_data.info()"
   ]
  },
  {
   "cell_type": "code",
   "execution_count": 23,
   "id": "identical-spirit",
   "metadata": {
    "execution": {
     "iopub.execute_input": "2021-06-15T08:56:09.475441Z",
     "iopub.status.busy": "2021-06-15T08:56:09.474901Z",
     "iopub.status.idle": "2021-06-15T08:56:09.862941Z",
     "shell.execute_reply": "2021-06-15T08:56:09.862456Z",
     "shell.execute_reply.started": "2021-06-15T08:51:43.472059Z"
    },
    "papermill": {
     "duration": 0.434005,
     "end_time": "2021-06-15T08:56:09.863073",
     "exception": false,
     "start_time": "2021-06-15T08:56:09.429068",
     "status": "completed"
    },
    "tags": []
   },
   "outputs": [],
   "source": [
    "from sklearn.ensemble import RandomForestClassifier\n",
    "from sklearn.model_selection import train_test_split\n",
    "from sklearn.model_selection import cross_val_score\n",
    "\n",
    "features = ['Pclass', 'Sex_num', 'Age_nomiss', 'SibSp',\n",
    "            'Parch', 'titles_num', 'Embarked_num']\n",
    "\n",
    "X = train_data[features]\n",
    "y = train_data[\"Survived\"]\n",
    "x_train, x_test, y_train, y_test = train_test_split(X, y, test_size=0.25,\n",
    "                                                 random_state=0,\n",
    "                                                 stratify=y)"
   ]
  },
  {
   "cell_type": "markdown",
   "id": "informal-simple",
   "metadata": {
    "papermill": {
     "duration": 0.041506,
     "end_time": "2021-06-15T08:56:09.946544",
     "exception": false,
     "start_time": "2021-06-15T08:56:09.905038",
     "status": "completed"
    },
    "tags": []
   },
   "source": [
    "### Stochastic Gradient Descent (SGD)"
   ]
  },
  {
   "cell_type": "code",
   "execution_count": 24,
   "id": "accredited-science",
   "metadata": {
    "execution": {
     "iopub.execute_input": "2021-06-15T08:56:10.035447Z",
     "iopub.status.busy": "2021-06-15T08:56:10.034907Z",
     "iopub.status.idle": "2021-06-15T08:56:10.091208Z",
     "shell.execute_reply": "2021-06-15T08:56:10.091589Z",
     "shell.execute_reply.started": "2021-06-15T08:51:43.486167Z"
    },
    "papermill": {
     "duration": 0.103868,
     "end_time": "2021-06-15T08:56:10.091762",
     "exception": false,
     "start_time": "2021-06-15T08:56:09.987894",
     "status": "completed"
    },
    "tags": []
   },
   "outputs": [
    {
     "name": "stdout",
     "output_type": "stream",
     "text": [
      "Mean: 0.7856129558721989\n",
      "Standard Deviation: 0.03553849125862136\n"
     ]
    }
   ],
   "source": [
    "from sklearn import linear_model\n",
    "from sklearn.svm import SVC, LinearSVC\n",
    "from sklearn.linear_model import SGDClassifier\n",
    "from sklearn.pipeline import make_pipeline\n",
    "from sklearn.preprocessing import StandardScaler\n",
    "from sklearn.model_selection import cross_val_score\n",
    "\n",
    "sgd_model = make_pipeline(StandardScaler(), SGDClassifier(max_iter=1000, tol=1e-6))\n",
    "\n",
    "# sgd_model.fit(x_train, y_train)\n",
    "# sgd_train_predictions = sgd_model.score(x_train, y_train, sample_weight=None)\n",
    "# sgd_test_predictions = sgd_model.score(x_test, y_test, sample_weight=None)\n",
    "# print(f'Train predictions accuracy {sgd_train_predictions}')\n",
    "# print(f'Test predictions accuracy {sgd_test_predictions}')\n",
    "\n",
    "sgd_scores = cross_val_score(sgd_model, X, y, cv=5, scoring = \"accuracy\")\n",
    "# print(\"Scores:\", scores)\n",
    "print(\"Mean:\", sgd_scores.mean())\n",
    "print(\"Standard Deviation:\", sgd_scores.std())"
   ]
  },
  {
   "cell_type": "markdown",
   "id": "damaged-practitioner",
   "metadata": {
    "papermill": {
     "duration": 0.040319,
     "end_time": "2021-06-15T08:56:10.172901",
     "exception": false,
     "start_time": "2021-06-15T08:56:10.132582",
     "status": "completed"
    },
    "tags": []
   },
   "source": [
    "## Random forest"
   ]
  },
  {
   "cell_type": "code",
   "execution_count": 25,
   "id": "collective-folks",
   "metadata": {
    "execution": {
     "iopub.execute_input": "2021-06-15T08:56:10.261743Z",
     "iopub.status.busy": "2021-06-15T08:56:10.261196Z",
     "iopub.status.idle": "2021-06-15T08:56:11.312488Z",
     "shell.execute_reply": "2021-06-15T08:56:11.313120Z",
     "shell.execute_reply.started": "2021-06-15T08:51:43.561537Z"
    },
    "papermill": {
     "duration": 1.099929,
     "end_time": "2021-06-15T08:56:11.313374",
     "exception": false,
     "start_time": "2021-06-15T08:56:10.213445",
     "status": "completed"
    },
    "tags": []
   },
   "outputs": [
    {
     "name": "stdout",
     "output_type": "stream",
     "text": [
      "Mean: 0.8260372857949909\n",
      "Standard Deviation: 0.018121612605875644\n"
     ]
    }
   ],
   "source": [
    "rf_model = RandomForestClassifier(n_estimators=100, max_depth=5, bootstrap=True, oob_score = True)\n",
    "\n",
    "# Using cross_val_score, it is not necessary to train explicitly the model. Anyway, let's train it in order to have\n",
    "# some insights about the feature importance.\n",
    "rf_model.fit(x_train, y_train)\n",
    "# rf_train_predictions = rf_model.score(x_train, y_train, sample_weight=None)\n",
    "# rf_test_predictions = rf_model.score(x_test, y_test, sample_weight=None)\n",
    "# print(f'Train predictions accuracy {rf_train_predictions}')\n",
    "# print(f'Test predictions accuracy {rf_test_predictions}')\n",
    "\n",
    "rf_scores = cross_val_score(rf_model, X, y, cv=5, scoring = \"accuracy\")\n",
    "# print(\"Scores:\", scores)\n",
    "print(\"Mean:\", rf_scores.mean())\n",
    "print(\"Standard Deviation:\", rf_scores.std())"
   ]
  },
  {
   "cell_type": "code",
   "execution_count": 26,
   "id": "varying-karma",
   "metadata": {
    "execution": {
     "iopub.execute_input": "2021-06-15T08:56:11.411605Z",
     "iopub.status.busy": "2021-06-15T08:56:11.410718Z",
     "iopub.status.idle": "2021-06-15T08:56:11.580900Z",
     "shell.execute_reply": "2021-06-15T08:56:11.580094Z",
     "shell.execute_reply.started": "2021-06-15T08:51:45.368442Z"
    },
    "papermill": {
     "duration": 0.225742,
     "end_time": "2021-06-15T08:56:11.581032",
     "exception": false,
     "start_time": "2021-06-15T08:56:11.355290",
     "status": "completed"
    },
    "tags": []
   },
   "outputs": [
    {
     "name": "stdout",
     "output_type": "stream",
     "text": [
      "              importance\n",
      "feature                 \n",
      "titles_num      0.335245\n",
      "Sex_num         0.284270\n",
      "Pclass          0.163594\n",
      "Age_nomiss      0.089217\n",
      "SibSp           0.067123\n",
      "Parch           0.036249\n",
      "Embarked_num    0.024302\n"
     ]
    },
    {
     "data": {
      "text/plain": [
       "<AxesSubplot:xlabel='feature'>"
      ]
     },
     "execution_count": 26,
     "metadata": {},
     "output_type": "execute_result"
    },
    {
     "data": {
      "image/png": "[encoded data removed]",
      "text/plain": [
       "<Figure size 432x288 with 1 Axes>"
      ]
     },
     "metadata": {
      "needs_background": "light"
     },
     "output_type": "display_data"
    }
   ],
   "source": [
    "importances = pd.DataFrame({'feature': X.columns,'importance': rf_model.feature_importances_})\n",
    "importances = importances.sort_values('importance',ascending=False).set_index('feature')\n",
    "print(importances.head(10))\n",
    "importances.plot.bar()"
   ]
  },
  {
   "cell_type": "markdown",
   "id": "fresh-antenna",
   "metadata": {
    "papermill": {
     "duration": 0.041902,
     "end_time": "2021-06-15T08:56:11.665170",
     "exception": false,
     "start_time": "2021-06-15T08:56:11.623268",
     "status": "completed"
    },
    "tags": []
   },
   "source": [
    "As Parch and Embarked_num does not seem to have any importance, let's drop it."
   ]
  },
  {
   "cell_type": "code",
   "execution_count": 27,
   "id": "naughty-academy",
   "metadata": {
    "execution": {
     "iopub.execute_input": "2021-06-15T08:56:11.757465Z",
     "iopub.status.busy": "2021-06-15T08:56:11.756925Z",
     "iopub.status.idle": "2021-06-15T08:56:13.497247Z",
     "shell.execute_reply": "2021-06-15T08:56:13.497848Z",
     "shell.execute_reply.started": "2021-06-15T08:51:45.567951Z"
    },
    "papermill": {
     "duration": 1.791194,
     "end_time": "2021-06-15T08:56:13.498064",
     "exception": false,
     "start_time": "2021-06-15T08:56:11.706870",
     "status": "completed"
    },
    "tags": []
   },
   "outputs": [
    {
     "name": "stdout",
     "output_type": "stream",
     "text": [
      "Mean: 0.813709120582512\n",
      "Standard Deviation: 0.019735996084705092\n"
     ]
    }
   ],
   "source": [
    "features2 = ['Pclass', 'Sex_num', 'Age_nomiss', 'SibSp',\n",
    "            'titles_num']\n",
    "\n",
    "X2 = train_data[features2]\n",
    "y2 = train_data[\"Survived\"]\n",
    "x_train2, x_test2, y_train2, y_test2 = train_test_split(X2, y2, test_size=0.1,\n",
    "                                                 random_state=0,\n",
    "                                                 stratify=y)\n",
    "\n",
    "rf_model2 = RandomForestClassifier(n_estimators=200, max_depth=5, bootstrap=True, oob_score = True)\n",
    "\n",
    "# rf_model2.fit(x_train2, y_train2)\n",
    "# rf_train_predictions2 = rf_model2.score(x_train2, y_train2, sample_weight=None)\n",
    "# rf_test_predictions2 = rf_model2.score(x_test2, y_test2, sample_weight=None)\n",
    "# print(f'Train predictions accuracy {rf_train_predictions2}')\n",
    "# print(f'Test predictions accuracy {rf_test_predictions2}')\n",
    "\n",
    "rf_scores2 = cross_val_score(rf_model2, X2, y2, cv=5, scoring = \"accuracy\")\n",
    "# print(\"Scores:\", scores)\n",
    "print(\"Mean:\", rf_scores2.mean())\n",
    "print(\"Standard Deviation:\", rf_scores2.std())"
   ]
  },
  {
   "cell_type": "markdown",
   "id": "civilian-colonial",
   "metadata": {
    "papermill": {
     "duration": 0.043138,
     "end_time": "2021-06-15T08:56:13.584864",
     "exception": false,
     "start_time": "2021-06-15T08:56:13.541726",
     "status": "completed"
    },
    "tags": []
   },
   "source": [
    "Results have worsen from previous RF. So no variable drop will be performed"
   ]
  },
  {
   "cell_type": "markdown",
   "id": "sacred-upgrade",
   "metadata": {
    "papermill": {
     "duration": 0.041653,
     "end_time": "2021-06-15T08:56:13.668300",
     "exception": false,
     "start_time": "2021-06-15T08:56:13.626647",
     "status": "completed"
    },
    "tags": []
   },
   "source": [
    "### Logistic regression"
   ]
  },
  {
   "cell_type": "code",
   "execution_count": 28,
   "id": "twelve-government",
   "metadata": {
    "execution": {
     "iopub.execute_input": "2021-06-15T08:56:13.758920Z",
     "iopub.status.busy": "2021-06-15T08:56:13.758323Z",
     "iopub.status.idle": "2021-06-15T08:56:13.795141Z",
     "shell.execute_reply": "2021-06-15T08:56:13.795596Z",
     "shell.execute_reply.started": "2021-06-15T08:51:48.240922Z"
    },
    "papermill": {
     "duration": 0.08541,
     "end_time": "2021-06-15T08:56:13.795772",
     "exception": false,
     "start_time": "2021-06-15T08:56:13.710362",
     "status": "completed"
    },
    "tags": []
   },
   "outputs": [
    {
     "name": "stdout",
     "output_type": "stream",
     "text": [
      "Mean: 0.8002134203753688\n",
      "Standard Deviation: 0.00864390582973646\n"
     ]
    }
   ],
   "source": [
    "from sklearn.linear_model import LogisticRegression\n",
    "\n",
    "# lr_model = make_pipeline(StandardScaler(), SGDClassifier(max_iter=1000, tol=1e-6))\n",
    "lr_model = LogisticRegression(solver='liblinear',random_state=1, tol=1e-2)\n",
    "\n",
    "# lr_model.fit(x_train, y_train)\n",
    "# lr_train_predictions = lr_model.score(x_train, y_train, sample_weight=None)\n",
    "# lr_test_predictions = lr_model.score(x_test, y_test, sample_weight=None)\n",
    "# print(f'Train predictions accuracy {lr_train_predictions}')\n",
    "# print(f'Test predictions accuracy {lr_test_predictions}')\n",
    "\n",
    "lr_scores = cross_val_score(lr_model, X, y, cv=5, scoring = \"accuracy\")\n",
    "# print(\"Scores:\", scores)\n",
    "print(\"Mean:\", lr_scores.mean())\n",
    "print(\"Standard Deviation:\", lr_scores.std())"
   ]
  },
  {
   "cell_type": "markdown",
   "id": "electrical-award",
   "metadata": {
    "papermill": {
     "duration": 0.042466,
     "end_time": "2021-06-15T08:56:13.880515",
     "exception": false,
     "start_time": "2021-06-15T08:56:13.838049",
     "status": "completed"
    },
    "tags": []
   },
   "source": [
    "### K Nearest Neighbor"
   ]
  },
  {
   "cell_type": "code",
   "execution_count": 29,
   "id": "related-bowling",
   "metadata": {
    "execution": {
     "iopub.execute_input": "2021-06-15T08:56:13.970827Z",
     "iopub.status.busy": "2021-06-15T08:56:13.970251Z",
     "iopub.status.idle": "2021-06-15T08:56:14.028836Z",
     "shell.execute_reply": "2021-06-15T08:56:14.029483Z",
     "shell.execute_reply.started": "2021-06-15T08:51:48.293112Z"
    },
    "papermill": {
     "duration": 0.106668,
     "end_time": "2021-06-15T08:56:14.029690",
     "exception": false,
     "start_time": "2021-06-15T08:56:13.923022",
     "status": "completed"
    },
    "tags": []
   },
   "outputs": [
    {
     "name": "stdout",
     "output_type": "stream",
     "text": [
      "Mean: 0.7699830519113678\n",
      "Standard Deviation: 0.03626678574930396\n"
     ]
    }
   ],
   "source": [
    "from sklearn.neighbors import KNeighborsClassifier\n",
    "\n",
    "knn_model = KNeighborsClassifier(n_neighbors=4)\n",
    "\n",
    "# knn_model.fit(x_train, y_train)\n",
    "# knn_train_predictions = knn_model.score(x_train, y_train, sample_weight=None)\n",
    "# knn_test_predictions = knn_model.score(x_test, y_test, sample_weight=None)\n",
    "# print(f'Train predictions accuracy {knn_train_predictions}')\n",
    "# print(f'Test predictions accuracy {knn_test_predictions}')\n",
    "\n",
    "knn_scores = cross_val_score(knn_model, X, y, cv=5, scoring = \"accuracy\")\n",
    "# print(\"Scores:\", scores)\n",
    "print(\"Mean:\", knn_scores.mean())\n",
    "print(\"Standard Deviation:\", knn_scores.std())"
   ]
  },
  {
   "cell_type": "markdown",
   "id": "primary-workshop",
   "metadata": {
    "papermill": {
     "duration": 0.042483,
     "end_time": "2021-06-15T08:56:14.116334",
     "exception": false,
     "start_time": "2021-06-15T08:56:14.073851",
     "status": "completed"
    },
    "tags": []
   },
   "source": [
    "### Naive-Bayes"
   ]
  },
  {
   "cell_type": "code",
   "execution_count": 30,
   "id": "tutorial-irish",
   "metadata": {
    "execution": {
     "iopub.execute_input": "2021-06-15T08:56:14.206379Z",
     "iopub.status.busy": "2021-06-15T08:56:14.205810Z",
     "iopub.status.idle": "2021-06-15T08:56:14.240517Z",
     "shell.execute_reply": "2021-06-15T08:56:14.241226Z",
     "shell.execute_reply.started": "2021-06-15T08:51:48.377336Z"
    },
    "papermill": {
     "duration": 0.082392,
     "end_time": "2021-06-15T08:56:14.241477",
     "exception": false,
     "start_time": "2021-06-15T08:56:14.159085",
     "status": "completed"
    },
    "tags": []
   },
   "outputs": [
    {
     "name": "stdout",
     "output_type": "stream",
     "text": [
      "Mean: 0.8091959073504487\n",
      "Standard Deviation: 0.010173319767239111\n"
     ]
    }
   ],
   "source": [
    "from sklearn.naive_bayes import GaussianNB\n",
    "\n",
    "NB_model = GaussianNB()\n",
    "\n",
    "# NB_model.fit(x_train, y_train)\n",
    "# NB_train_predictions = NB_model.score(x_train, y_train, sample_weight=None)\n",
    "# NB_test_predictions = NB_model.score(x_test, y_test, sample_weight=None)\n",
    "# print(f'Train predictions accuracy {NB_train_predictions}')\n",
    "# print(f'Test predictions accuracy {NB_test_predictions}')\n",
    "\n",
    "NB_scores = cross_val_score(NB_model, X, y, cv=5, scoring = \"accuracy\")\n",
    "# print(\"Scores:\", scores)\n",
    "print(\"Mean:\", NB_scores.mean())\n",
    "print(\"Standard Deviation:\", NB_scores.std())"
   ]
  },
  {
   "cell_type": "markdown",
   "id": "comparative-times",
   "metadata": {
    "papermill": {
     "duration": 0.042691,
     "end_time": "2021-06-15T08:56:14.328363",
     "exception": false,
     "start_time": "2021-06-15T08:56:14.285672",
     "status": "completed"
    },
    "tags": []
   },
   "source": [
    "### Perceptron"
   ]
  },
  {
   "cell_type": "code",
   "execution_count": 31,
   "id": "conscious-rover",
   "metadata": {
    "execution": {
     "iopub.execute_input": "2021-06-15T08:56:14.426108Z",
     "iopub.status.busy": "2021-06-15T08:56:14.421668Z",
     "iopub.status.idle": "2021-06-15T08:56:14.455404Z",
     "shell.execute_reply": "2021-06-15T08:56:14.456206Z",
     "shell.execute_reply.started": "2021-06-15T08:51:48.422124Z"
    },
    "papermill": {
     "duration": 0.083647,
     "end_time": "2021-06-15T08:56:14.456469",
     "exception": false,
     "start_time": "2021-06-15T08:56:14.372822",
     "status": "completed"
    },
    "tags": []
   },
   "outputs": [
    {
     "name": "stdout",
     "output_type": "stream",
     "text": [
      "Mean: 0.632772581758835\n",
      "Standard Deviation: 0.1200483951406239\n"
     ]
    }
   ],
   "source": [
    "from sklearn.linear_model import Perceptron\n",
    "\n",
    "Per_model = Perceptron(tol=1e-2, random_state=0)\n",
    "\n",
    "# Per_model.fit(x_train, y_train)\n",
    "# Per_train_predictions = Per_model.score(x_train, y_train, sample_weight=None)\n",
    "# Per_test_predictions = Per_model.score(x_test, y_test, sample_weight=None)\n",
    "# print(f'Train predictions accuracy {Per_train_predictions}')\n",
    "# print(f'Test predictions accuracy {Per_test_predictions}')\n",
    "\n",
    "Per_scores = cross_val_score(Per_model, X, y, cv=5, scoring = \"accuracy\")\n",
    "# print(\"Scores:\", scores)\n",
    "print(\"Mean:\", Per_scores.mean())\n",
    "print(\"Standard Deviation:\", Per_scores.std())"
   ]
  },
  {
   "cell_type": "markdown",
   "id": "enormous-oasis",
   "metadata": {
    "papermill": {
     "duration": 0.042606,
     "end_time": "2021-06-15T08:56:14.543664",
     "exception": false,
     "start_time": "2021-06-15T08:56:14.501058",
     "status": "completed"
    },
    "tags": []
   },
   "source": [
    "### Linear Support Vector Machine"
   ]
  },
  {
   "cell_type": "code",
   "execution_count": 32,
   "id": "exciting-bleeding",
   "metadata": {
    "execution": {
     "iopub.execute_input": "2021-06-15T08:56:14.632210Z",
     "iopub.status.busy": "2021-06-15T08:56:14.631620Z",
     "iopub.status.idle": "2021-06-15T08:56:14.796692Z",
     "shell.execute_reply": "2021-06-15T08:56:14.797333Z",
     "shell.execute_reply.started": "2021-06-15T08:51:48.471845Z"
    },
    "papermill": {
     "duration": 0.210878,
     "end_time": "2021-06-15T08:56:14.797537",
     "exception": false,
     "start_time": "2021-06-15T08:56:14.586659",
     "status": "completed"
    },
    "tags": []
   },
   "outputs": [
    {
     "name": "stdout",
     "output_type": "stream",
     "text": [
      "Mean: 0.7968489109283786\n",
      "Standard Deviation: 0.011037534393038048\n"
     ]
    },
    {
     "name": "stderr",
     "output_type": "stream",
     "text": [
      "/opt/conda/lib/python3.7/site-packages/sklearn/svm/_base.py:986: ConvergenceWarning: Liblinear failed to converge, increase the number of iterations.\n",
      "  \"the number of iterations.\", ConvergenceWarning)\n"
     ]
    }
   ],
   "source": [
    "from sklearn.svm import LinearSVC\n",
    "\n",
    "LSVM_model = make_pipeline(StandardScaler(), LinearSVC(random_state=0, tol=1e-3))\n",
    "\n",
    "# LSVM_model.fit(x_train, y_train)\n",
    "# LSVM_train_predictions = LSVM_model.score(x_train, y_train, sample_weight=None)\n",
    "# LSVM_test_predictions = LSVM_model.score(x_test, y_test, sample_weight=None)\n",
    "# print(f'Train predictions accuracy {LSVM_train_predictions}')\n",
    "# print(f'Test predictions accuracy {LSVM_test_predictions}')\n",
    "\n",
    "LSVM_scores = cross_val_score(LSVM_model, X, y, cv=5, scoring = \"accuracy\")\n",
    "# print(\"Scores:\", scores)\n",
    "print(\"Mean:\", LSVM_scores.mean())\n",
    "print(\"Standard Deviation:\", LSVM_scores.std())"
   ]
  },
  {
   "cell_type": "markdown",
   "id": "perceived-disability",
   "metadata": {
    "papermill": {
     "duration": 0.042953,
     "end_time": "2021-06-15T08:56:14.885588",
     "exception": false,
     "start_time": "2021-06-15T08:56:14.842635",
     "status": "completed"
    },
    "tags": []
   },
   "source": [
    "### Models wrap up"
   ]
  },
  {
   "cell_type": "code",
   "execution_count": 33,
   "id": "express-wrestling",
   "metadata": {
    "execution": {
     "iopub.execute_input": "2021-06-15T08:56:14.984982Z",
     "iopub.status.busy": "2021-06-15T08:56:14.984316Z",
     "iopub.status.idle": "2021-06-15T08:56:14.988577Z",
     "shell.execute_reply": "2021-06-15T08:56:14.988163Z",
     "shell.execute_reply.started": "2021-06-15T08:51:48.660354Z"
    },
    "papermill": {
     "duration": 0.059102,
     "end_time": "2021-06-15T08:56:14.988705",
     "exception": false,
     "start_time": "2021-06-15T08:56:14.929603",
     "status": "completed"
    },
    "tags": []
   },
   "outputs": [
    {
     "data": {
      "text/html": [
       "<div>\n",
       "<style scoped>\n",
       "    .dataframe tbody tr th:only-of-type {\n",
       "        vertical-align: middle;\n",
       "    }\n",
       "\n",
       "    .dataframe tbody tr th {\n",
       "        vertical-align: top;\n",
       "    }\n",
       "\n",
       "    .dataframe thead th {\n",
       "        text-align: right;\n",
       "    }\n",
       "</style>\n",
       "<table border=\"1\" class=\"dataframe\">\n",
       "  <thead>\n",
       "    <tr style=\"text-align: right;\">\n",
       "      <th></th>\n",
       "      <th>Model</th>\n",
       "    </tr>\n",
       "    <tr>\n",
       "      <th>Score</th>\n",
       "      <th></th>\n",
       "    </tr>\n",
       "  </thead>\n",
       "  <tbody>\n",
       "    <tr>\n",
       "      <th>0.826037</th>\n",
       "      <td>Random Forest</td>\n",
       "    </tr>\n",
       "    <tr>\n",
       "      <th>0.813709</th>\n",
       "      <td>Random Forest2</td>\n",
       "    </tr>\n",
       "    <tr>\n",
       "      <th>0.809196</th>\n",
       "      <td>Naive Bayes</td>\n",
       "    </tr>\n",
       "    <tr>\n",
       "      <th>0.800213</th>\n",
       "      <td>Linear Regression</td>\n",
       "    </tr>\n",
       "    <tr>\n",
       "      <th>0.796849</th>\n",
       "      <td>Linear Support Vector Machine</td>\n",
       "    </tr>\n",
       "    <tr>\n",
       "      <th>0.785613</th>\n",
       "      <td>Stochastic Gradient Descent</td>\n",
       "    </tr>\n",
       "    <tr>\n",
       "      <th>0.769983</th>\n",
       "      <td>K Nearest Neighbours</td>\n",
       "    </tr>\n",
       "    <tr>\n",
       "      <th>0.632773</th>\n",
       "      <td>Perceptron</td>\n",
       "    </tr>\n",
       "  </tbody>\n",
       "</table>\n",
       "</div>"
      ],
      "text/plain": [
       "                                  Model\n",
       "Score                                  \n",
       "0.826037                  Random Forest\n",
       "0.813709                 Random Forest2\n",
       "0.809196                    Naive Bayes\n",
       "0.800213              Linear Regression\n",
       "0.796849  Linear Support Vector Machine\n",
       "0.785613    Stochastic Gradient Descent\n",
       "0.769983           K Nearest Neighbours\n",
       "0.632773                     Perceptron"
      ]
     },
     "execution_count": 33,
     "metadata": {},
     "output_type": "execute_result"
    }
   ],
   "source": [
    "scores_list = [sgd_scores, rf_scores, rf_scores2, lr_scores, \n",
    "              knn_scores, NB_scores, Per_scores, LSVM_scores]\n",
    "score_list_mean = [x.mean() for x in scores_list]\n",
    "results = pd.DataFrame({\n",
    "    'Model': ['Stochastic Gradient Descent', 'Random Forest', 'Random Forest2','Linear Regression', 'K Nearest Neighbours', 'Naive Bayes',\n",
    "              'Perceptron', 'Linear Support Vector Machine'],\n",
    "    'Score': score_list_mean})\n",
    "result_df = results.sort_values(by='Score', ascending=False)\n",
    "result_df = result_df.set_index('Score')\n",
    "result_df.head(9)"
   ]
  },
  {
   "cell_type": "markdown",
   "id": "downtown-australian",
   "metadata": {
    "papermill": {
     "duration": 0.044936,
     "end_time": "2021-06-15T08:56:15.078044",
     "exception": false,
     "start_time": "2021-06-15T08:56:15.033108",
     "status": "completed"
    },
    "tags": []
   },
   "source": [
    "### Random forest hyperparameter tuning"
   ]
  },
  {
   "cell_type": "markdown",
   "id": "contrary-fundamentals",
   "metadata": {
    "execution": {
     "iopub.execute_input": "2021-06-15T06:21:51.828086Z",
     "iopub.status.busy": "2021-06-15T06:21:51.827406Z",
     "iopub.status.idle": "2021-06-15T06:53:36.088003Z",
     "shell.execute_reply": "2021-06-15T06:53:36.08672Z",
     "shell.execute_reply.started": "2021-06-15T06:21:51.828048Z"
    },
    "papermill": {
     "duration": 0.043315,
     "end_time": "2021-06-15T08:56:15.165382",
     "exception": false,
     "start_time": "2021-06-15T08:56:15.122067",
     "status": "completed"
    },
    "tags": []
   },
   "source": [
    "### Edited as Markdown in order to not be executed every time\n",
    "\n",
    "from sklearn.model_selection import GridSearchCV\n",
    "\n",
    "param_grid = { \"criterion\" : [\"gini\"],\n",
    "              \"min_samples_leaf\" : [1, 5, 10, 25, 50, 70],\n",
    "              \"min_samples_split\" : [2, 4, 10, 12, 16, 18, 25, 35],\n",
    "              \"n_estimators\": [500, 1000, 2000]}\n",
    "\n",
    "rf = RandomForestClassifier(n_estimators=100, max_features='auto', oob_score=True, random_state=1, n_jobs=-1)\n",
    "clf = GridSearchCV(estimator=rf, param_grid=param_grid, n_jobs=-1)\n",
    "clf.fit(X, y)\n",
    "clf.best_params_"
   ]
  },
  {
   "cell_type": "code",
   "execution_count": 34,
   "id": "mature-religious",
   "metadata": {
    "execution": {
     "iopub.execute_input": "2021-06-15T08:56:15.258620Z",
     "iopub.status.busy": "2021-06-15T08:56:15.258073Z",
     "iopub.status.idle": "2021-06-15T08:56:23.784972Z",
     "shell.execute_reply": "2021-06-15T08:56:23.784536Z",
     "shell.execute_reply.started": "2021-06-15T08:51:48.679368Z"
    },
    "papermill": {
     "duration": 8.575508,
     "end_time": "2021-06-15T08:56:23.785113",
     "exception": false,
     "start_time": "2021-06-15T08:56:15.209605",
     "status": "completed"
    },
    "tags": []
   },
   "outputs": [
    {
     "name": "stdout",
     "output_type": "stream",
     "text": [
      "Mean: 0.8215680120519743\n",
      "Standard Deviation: 0.018390479971740387\n"
     ]
    }
   ],
   "source": [
    "rf_final = RandomForestClassifier(n_estimators=1000, max_depth=5, bootstrap=True, oob_score = True, criterion='gini',\n",
    "                                  min_samples_leaf=1, min_samples_split=25)\n",
    "\n",
    "rf_final_scores = cross_val_score(rf_final, X, y, cv=5, scoring = \"accuracy\")\n",
    "# print(\"Scores:\", scores)\n",
    "print(\"Mean:\", rf_final_scores.mean())\n",
    "print(\"Standard Deviation:\", rf_final_scores.std())"
   ]
  },
  {
   "cell_type": "markdown",
   "id": "portuguese-industry",
   "metadata": {
    "papermill": {
     "duration": 0.043993,
     "end_time": "2021-06-15T08:56:23.873736",
     "exception": false,
     "start_time": "2021-06-15T08:56:23.829743",
     "status": "completed"
    },
    "tags": []
   },
   "source": [
    "## Final predictions"
   ]
  },
  {
   "cell_type": "code",
   "execution_count": 35,
   "id": "spare-velvet",
   "metadata": {
    "execution": {
     "iopub.execute_input": "2021-06-15T08:56:23.970356Z",
     "iopub.status.busy": "2021-06-15T08:56:23.969408Z",
     "iopub.status.idle": "2021-06-15T08:56:24.165289Z",
     "shell.execute_reply": "2021-06-15T08:56:24.165850Z",
     "shell.execute_reply.started": "2021-06-15T08:52:01.472988Z"
    },
    "papermill": {
     "duration": 0.247982,
     "end_time": "2021-06-15T08:56:24.166174",
     "exception": false,
     "start_time": "2021-06-15T08:56:23.918192",
     "status": "completed"
    },
    "tags": []
   },
   "outputs": [
    {
     "name": "stdout",
     "output_type": "stream",
     "text": [
      "Your submission was successfully saved!\n"
     ]
    }
   ],
   "source": [
    "rf_model.fit(X, y)\n",
    "\n",
    "predictions = rf_model.predict(test_data[features])\n",
    "\n",
    "output = pd.DataFrame({'PassengerId': test_data.PassengerId, 'Survived': predictions})\n",
    "output.to_csv('my_submission.csv', index=False)\n",
    "print(\"Your submission was successfully saved!\")"
   ]
  },
  {
   "cell_type": "code",
   "execution_count": null,
   "id": "earlier-sugar",
   "metadata": {
    "papermill": {
     "duration": 0.044312,
     "end_time": "2021-06-15T08:56:24.255573",
     "exception": false,
     "start_time": "2021-06-15T08:56:24.211261",
     "status": "completed"
    },
    "tags": []
   },
   "outputs": [],
   "source": []
  }
 ],
 "metadata": {
  "kernelspec": {
   "display_name": "Python 3",
   "language": "python",
   "name": "python3"
  },
  "language_info": {
   "codemirror_mode": {
    "name": "ipython",
    "version": 3
   },
   "file_extension": ".py",
   "mimetype": "text/x-python",
   "name": "python",
   "nbconvert_exporter": "python",
   "pygments_lexer": "ipython3",
   "version": "3.7.10"
  },
  "papermill": {
   "default_parameters": {},
   "duration": 28.770654,
   "end_time": "2021-06-15T08:56:25.740998",
   "environment_variables": {},
   "exception": null,
   "input_path": "__notebook__.ipynb",
   "output_path": "__notebook__.ipynb",
   "parameters": {},
   "start_time": "2021-06-15T08:55:56.970344",
   "version": "2.3.3"
  }
 },
 "nbformat": 4,
 "nbformat_minor": 5
}
